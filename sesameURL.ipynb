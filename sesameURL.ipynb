{
 "cells": [
  {
   "cell_type": "code",
   "execution_count": 2,
   "id": "fbadff6b",
   "metadata": {},
   "outputs": [
    {
     "name": "stdout",
     "output_type": "stream",
     "text": [
      "[*] 提取到的 'sk' 值: BUuyc5Natg...\n",
      "[*] 正在进行 Base64 解码...\n",
      "[*] 解码成功，总长度: 39 字节\n",
      "\n",
      "错误：解码后的密钥数据长度不正确！\n",
      "预期长度: 49 字节\n",
      "实际长度: 39 字节\n",
      "请确认您已从手机App中复制了【完整】的 ssm:// 链接。\n"
     ]
    }
   ],
   "source": [
    "import urllib.parse\n",
    "import base64\n",
    "\n",
    "def parse_sesame_uri(uri_string: str):\n",
    "    \"\"\"\n",
    "    解析从 Sesame App 分享的 ssm:// 链接，提取 device_secret 和 app_private_key。\n",
    "    \"\"\"\n",
    "    try:\n",
    "        parsed_uri = urllib.parse.urlparse(uri_string)\n",
    "        params = urllib.parse.parse_qs(parsed_uri.query)\n",
    "\n",
    "        if 'sk' not in params:\n",
    "            print(\"错误：链接中未找到 'sk' 参数。\")\n",
    "            return\n",
    "\n",
    "        # 1. 从URL中提取 'sk' 的值\n",
    "        sk_b64_url_encoded = params['sk'][0]\n",
    "        print(f\"[*] 提取到的 'sk' 值: {sk_b64_url_encoded[:10]}...\")\n",
    "\n",
    "        # 2. Base64 解码\n",
    "        #    URL安全Base64常用 '-' 和 '_' 代替 '+' 和 '/'，这里进行替换\n",
    "        #    并补充必要的'=' padding以保证长度是4的倍数\n",
    "        sk_b64 = sk_b64_url_encoded.replace('-', '+').replace('_', '/')\n",
    "        padding = '=' * (4 - len(sk_b64) % 4)\n",
    "        \n",
    "        print(\"[*] 正在进行 Base64 解码...\")\n",
    "        decoded_sk = base64.b64decode(sk_b64 + padding)\n",
    "        print(f\"[*] 解码成功，总长度: {len(decoded_sk)} 字节\")\n",
    "\n",
    "        # 3. 校验长度是否为预期的49字节\n",
    "        if len(decoded_sk) != 49:\n",
    "            print(\"\\n错误：解码后的密钥数据长度不正确！\")\n",
    "            print(f\"预期长度: 49 字节\")\n",
    "            print(f\"实际长度: {len(decoded_sk)} 字节\")\n",
    "            print(\"请确认您已从手机App中复制了【完整】的 ssm:// 链接。\")\n",
    "            return\n",
    "\n",
    "        # 4. 根据结构切割出两个密钥\n",
    "        key_index = decoded_sk[0]\n",
    "        device_secret = decoded_sk[1:17]\n",
    "        app_private_key = decoded_sk[17:49]\n",
    "\n",
    "        # 5. 打印结果\n",
    "        print(\"\\n\" + \"=\"*40)\n",
    "        print(\"          密钥解析成功！\")\n",
    "        print(\"=\"*40)\n",
    "        print(f\"密钥编号 (Key Index): {key_index}\")\n",
    "        print(\"\\n请将下面的值复制到您的主控制脚本中：\")\n",
    "        print(\"-\" * 40)\n",
    "        print(f\"设备共享密码 (DEVICE_SECRET_HEX):\")\n",
    "        print(device_secret.hex())\n",
    "        print(\"-\" * 40)\n",
    "        print(f\"App私钥 (APP_PRIVATE_KEY_HEX):\")\n",
    "        print(app_private_key.hex())\n",
    "        print(\"=\"*40)\n",
    "\n",
    "    except Exception as e:\n",
    "        print(f\"\\n解析过程中发生错误: {e}\")\n",
    "        print(\"请检查您的链接是否正确且完整。\")\n",
    "\n",
    "if __name__ == \"__main__\":\n",
    "    # 提示用户输入链接\n",
    "    full_uri = input(\"请从手机App分享钥匙，然后将完整的 ssm:// 链接粘贴到此处:\\n\")\n",
    "    if full_uri:\n",
    "        parse_sesame_uri(full_uri)"
   ]
  }
 ],
 "metadata": {
  "kernelspec": {
   "display_name": "Python 3",
   "language": "python",
   "name": "python3"
  },
  "language_info": {
   "codemirror_mode": {
    "name": "ipython",
    "version": 3
   },
   "file_extension": ".py",
   "mimetype": "text/x-python",
   "name": "python",
   "nbconvert_exporter": "python",
   "pygments_lexer": "ipython3",
   "version": "3.13.0"
  }
 },
 "nbformat": 4,
 "nbformat_minor": 5
}
